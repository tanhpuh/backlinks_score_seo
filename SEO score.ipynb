{
 "cells": [
  {
   "cell_type": "code",
   "execution_count": null,
   "metadata": {},
   "outputs": [],
   "source": [
    "# Import libraries and packages for the project \n",
    "from selenium import webdriver\n",
    "from selenium.webdriver.common.keys import Keys\n",
    "from selenium.webdriver.common.action_chains import ActionChains\n",
    "from selenium.webdriver.support.ui import Select\n",
    "from selenium.webdriver.common.by import By\n",
    "import os\n",
    "import requests\n",
    "from bs4 import BeautifulSoup\n",
    "from time import sleep\n",
    "import csv\n",
    "import urllib.request as urllib2\n",
    "import re"
   ]
  },
  {
   "cell_type": "code",
   "execution_count": null,
   "metadata": {},
   "outputs": [],
   "source": [
    "driver = webdriver.Firefox()\n",
    "credential = open('list domain.txt')\n",
    "line = credential.readlines()\n",
    "with open('output.csv', 'w',  newline = '') as file_output:\n",
    "    headers = ['domain', 'domainAuth', 'pageAuth', 'spscore', 'mozTrust', 'mozRank', 'totalBacklink', 'lastCrawled', 'domainAge']\n",
    "    writer = csv.DictWriter(file_output, delimiter=',', lineterminator='\\n',fieldnames=headers)\n",
    "    writer.writeheader()\n",
    "    for i in line[923:]:\n",
    "        driver.get('https://free-seo-tools.org/domain-authority-checker')\n",
    "        sleep(1)\n",
    "        form_url = driver.find_element(By.XPATH,'//textarea[@name=\"linksBox\"]')\n",
    "        input_url = form_url.send_keys(i)\n",
    "        sleep(1)\n",
    "        element = driver.find_element(By.XPATH,'//a[@id=\"checkButton\"]')\n",
    "        driver.execute_script(\"arguments[0].scrollIntoView();\", element)\n",
    "        sleep(1)\n",
    "        submit_box = driver.find_element(By.XPATH,'//a[@id=\"checkButton\"]')\n",
    "        submit = submit_box.click()\n",
    "        sleep(6)      \n",
    "        page_source = BeautifulSoup(driver.page_source, \"html.parser\")\n",
    "        data = page_source.find('tr',{'class':'even'})\n",
    "        sleep(2)\n",
    "        try:\n",
    "            domain = data.find('td',{'id':'link-0'}).get_text()\n",
    "            sleep(1)\n",
    "            print('domain: ',domain)\n",
    "            domainAuth = data.find('td',{'id':'status0-0'}).get_text()\n",
    "            sleep(1)\n",
    "            print('domainAuth: ',domainAuth)\n",
    "            pageAuth = data.find('td',{'id':'status1-0'}).get_text()\n",
    "            sleep(1)\n",
    "            print('pageAuth: ',pageAuth)\n",
    "            spscore = data.find('td',{'id':'status2-0'}).get_text()\n",
    "            sleep(1)\n",
    "            print('spscore: ',spscore)  \n",
    "            mozTrust = data.find('td',{'id':'status3-0'}).get_text()\n",
    "            sleep(1)\n",
    "            print('mozTrust: ',mozTrust)  \n",
    "            mozRank = data.find('td',{'id':'status4-0'}).get_text()\n",
    "            sleep(1)\n",
    "            print('mozRank: ',mozRank)  \n",
    "            totalBacklink = data.find('td',{'id':'status5-0'}).get_text()\n",
    "            sleep(1)\n",
    "            print('totalBacklink: ',totalBacklink)   \n",
    "            lastCrawled = data.find('td',{'id':'status8-0'}).get_text()\n",
    "            sleep(1)\n",
    "            print('lastCrawled: ',lastCrawled)                \n",
    "            sleep(1)\n",
    "            domainAge = data.find('td',{'id':'status11-0'}).get_text()\n",
    "            sleep(1)\n",
    "            print('domainAge: ',domainAge)                \n",
    "            sleep(2)\n",
    "            writer.writerow({headers[0]:domain, headers[1]:domainAuth, headers[2]:pageAuth, headers[3]:spscore, headers[4]:mozTrust, headers[5]:mozRank, headers[6]:totalBacklink, headers[7]:lastCrawled, headers[8]:domainAge})\n",
    "            print('\\n')\n",
    "        except:\n",
    "            pass"
   ]
  }
 ],
 "metadata": {
  "interpreter": {
   "hash": "aee8b7b246df8f9039afb4144a1f6fd8d2ca17a180786b69acc140d282b71a49"
  },
  "kernelspec": {
   "display_name": "Python 3.10.2 64-bit",
   "language": "python",
   "name": "python3"
  },
  "language_info": {
   "codemirror_mode": {
    "name": "ipython",
    "version": 3
   },
   "file_extension": ".py",
   "mimetype": "text/x-python",
   "name": "python",
   "nbconvert_exporter": "python",
   "pygments_lexer": "ipython3",
   "version": "3.10.2"
  },
  "orig_nbformat": 4
 },
 "nbformat": 4,
 "nbformat_minor": 2
}
